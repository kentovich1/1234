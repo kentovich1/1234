{
  "cells": [
    {
      "cell_type": "markdown",
      "metadata": {
        "id": "view-in-github",
        "colab_type": "text"
      },
      "source": [
        "<a href=\"https://colab.research.google.com/github/kentovich1/1234/blob/main/chenahui.ipynb\" target=\"_parent\"><img src=\"https://colab.research.google.com/assets/colab-badge.svg\" alt=\"Open In Colab\"/></a>"
      ]
    },
    {
      "cell_type": "code",
      "execution_count": null,
      "metadata": {
        "id": "Gw9p1uqQxB5q"
      },
      "outputs": [],
      "source": [
        "!git clone https://github.com/kentovich1/1234"
      ]
    },
    {
      "cell_type": "code",
      "execution_count": null,
      "metadata": {
        "id": "RSpK5CvAywsw"
      },
      "outputs": [],
      "source": [
        "cd 1234/"
      ]
    },
    {
      "cell_type": "code",
      "execution_count": null,
      "metadata": {
        "id": "KUhA_k-j1Rn8"
      },
      "outputs": [],
      "source": [
        "!pip install curl_cffi"
      ]
    },
    {
      "cell_type": "code",
      "execution_count": null,
      "metadata": {
        "id": "xYB9JE9s4idQ"
      },
      "outputs": [],
      "source": [
        "!pip install pycurl"
      ]
    },
    {
      "cell_type": "code",
      "execution_count": null,
      "metadata": {
        "id": "2nucwI_x4l3n"
      },
      "outputs": [],
      "source": [
        "!pip install httpx"
      ]
    },
    {
      "cell_type": "code",
      "source": [
        "!pip install betterlogging"
      ],
      "metadata": {
        "id": "j4el61jsX8-P"
      },
      "execution_count": null,
      "outputs": []
    },
    {
      "cell_type": "code",
      "execution_count": null,
      "metadata": {
        "id": "LDK9fT9k8ERh"
      },
      "outputs": [],
      "source": [
        "!pip install asyncio"
      ]
    },
    {
      "cell_type": "code",
      "execution_count": null,
      "metadata": {
        "id": "MqMJpugQ1e68"
      },
      "outputs": [],
      "source": [
        "!pip install requests"
      ]
    },
    {
      "cell_type": "code",
      "source": [
        "!python3 sms_hub_service.py"
      ],
      "metadata": {
        "id": "8A38gZMgWgcm"
      },
      "execution_count": 9,
      "outputs": []
    },
    {
      "cell_type": "code",
      "execution_count": 10,
      "metadata": {
        "id": "ixXIO09AzLT1"
      },
      "outputs": [],
      "source": [
        "!python3 mig_service_register.py"
      ]
    },
    {
      "cell_type": "code",
      "execution_count": 11,
      "metadata": {
        "id": "ofR0AcNOzF_a"
      },
      "outputs": [],
      "source": [
        "!python3 mig_service.py"
      ]
    },
    {
      "cell_type": "code",
      "execution_count": 12,
      "metadata": {
        "id": "9De6CqAry7pm"
      },
      "outputs": [],
      "source": [
        "!python3 checker_service.py"
      ]
    },
    {
      "cell_type": "code",
      "execution_count": 13,
      "metadata": {
        "id": "6wwLTZo44H7q"
      },
      "outputs": [],
      "source": [
        "!python3 data_class.py"
      ]
    },
    {
      "cell_type": "code",
      "execution_count": 14,
      "metadata": {
        "id": "JRN9uttk5e29"
      },
      "outputs": [],
      "source": [
        "!python3 config.py"
      ]
    },
    {
      "cell_type": "code",
      "execution_count": null,
      "metadata": {
        "id": "_gTX-41my07S"
      },
      "outputs": [],
      "source": [
        "!python3 main.py"
      ]
    }
  ],
  "metadata": {
    "colab": {
      "provenance": [],
      "authorship_tag": "ABX9TyO/ITTxmDLbwWyeBBmY57ok",
      "include_colab_link": true
    },
    "kernelspec": {
      "display_name": "Python 3",
      "name": "python3"
    },
    "language_info": {
      "name": "python"
    }
  },
  "nbformat": 4,
  "nbformat_minor": 0
}